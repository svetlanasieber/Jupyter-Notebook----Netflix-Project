{
 "cells": [
  {
   "cell_type": "code",
   "execution_count": 2,
   "metadata": {
    "_kg_hide-input": true,
    "execution": {
     "iopub.execute_input": "2021-04-01T06:48:13.660285Z",
     "iopub.status.busy": "2021-04-01T06:48:13.659642Z",
     "iopub.status.idle": "2021-04-01T06:48:15.361302Z",
     "shell.execute_reply": "2021-04-01T06:48:15.360696Z"
    },
    "papermill": {
     "duration": 1.742393,
     "end_time": "2021-04-01T06:48:15.361447",
     "exception": false,
     "start_time": "2021-04-01T06:48:13.619054",
     "status": "completed"
    },
    "slideshow": {
     "slide_type": "skip"
    },
    "tags": []
   },
   "outputs": [],
   "source": [
    "# Importing libs\n",
    "import pandas as pd\n",
    "import numpy as np\n",
    "import matplotlib.pyplot as plt\n",
    "%matplotlib inline\n",
    "import datetime as dt"
   ]
  },
  {
   "cell_type": "markdown",
   "metadata": {},
   "source": [
    "# <center>Jupyter Notebook Matery - Regular exam"
   ]
  },
  {
   "cell_type": "markdown",
   "metadata": {},
   "source": [
    "# PART ONE - WORKING WITH DATA"
   ]
  },
  {
   "cell_type": "markdown",
   "metadata": {},
   "source": [
    "You are provided with a dataset which contains different characteristics of the content found on Netflix. There are several goals that you should achieve: \n",
    "\n",
    "- explore the relative share of TV Shows/Movies on Netflix, \n",
    "- find out what are the top 10 providers (countries) of content on Netflix, \n",
    "- explore how content has been added over the years.\n",
    "\n",
    "You will find cells named `TASK`. They define what task you should perform. Under each task you will find a cell, containing the comment _#YOUR CODE HERE_ in which you should write your solution.\n",
    "\n",
    "You will encounter `HELPER CELLS` which you should just run.\n",
    "\n",
    "**Good luck!** :)"
   ]
  },
  {
   "cell_type": "markdown",
   "metadata": {},
   "source": [
    "## Reading the data"
   ]
  },
  {
   "cell_type": "markdown",
   "metadata": {},
   "source": [
    "<b><font color='#8B0000'>TASK</font></b>\n",
    "\n",
    "Read the dataset as a Pandas dataframe and show the **first three rows** of it.\n",
    "\n",
    "Store the dataset in the variable `netflix_data`."
   ]
  },
  {
   "cell_type": "code",
   "execution_count": 6,
   "metadata": {},
   "outputs": [
    {
     "data": {
      "text/html": [
       "<div>\n",
       "<style scoped>\n",
       "    .dataframe tbody tr th:only-of-type {\n",
       "        vertical-align: middle;\n",
       "    }\n",
       "\n",
       "    .dataframe tbody tr th {\n",
       "        vertical-align: top;\n",
       "    }\n",
       "\n",
       "    .dataframe thead th {\n",
       "        text-align: right;\n",
       "    }\n",
       "</style>\n",
       "<table border=\"1\" class=\"dataframe\">\n",
       "  <thead>\n",
       "    <tr style=\"text-align: right;\">\n",
       "      <th></th>\n",
       "      <th>show_id</th>\n",
       "      <th>type</th>\n",
       "      <th>title</th>\n",
       "      <th>director</th>\n",
       "      <th>cast</th>\n",
       "      <th>country</th>\n",
       "      <th>date_added</th>\n",
       "      <th>release_year</th>\n",
       "      <th>rating</th>\n",
       "      <th>duration</th>\n",
       "      <th>listed_in</th>\n",
       "      <th>description</th>\n",
       "    </tr>\n",
       "  </thead>\n",
       "  <tbody>\n",
       "    <tr>\n",
       "      <th>0</th>\n",
       "      <td>s1</td>\n",
       "      <td>TV Show</td>\n",
       "      <td>3%</td>\n",
       "      <td>NaN</td>\n",
       "      <td>João Miguel, Bianca Comparato, Michel Gomes, R...</td>\n",
       "      <td>Brazil</td>\n",
       "      <td>August 14, 2020</td>\n",
       "      <td>2020</td>\n",
       "      <td>TV-MA</td>\n",
       "      <td>4 Seasons</td>\n",
       "      <td>International TV Shows, TV Dramas, TV Sci-Fi &amp;...</td>\n",
       "      <td>In a future where the elite inhabit an island ...</td>\n",
       "    </tr>\n",
       "    <tr>\n",
       "      <th>1</th>\n",
       "      <td>s2</td>\n",
       "      <td>Movie</td>\n",
       "      <td>7:19</td>\n",
       "      <td>Jorge Michel Grau</td>\n",
       "      <td>Demián Bichir, Héctor Bonilla, Oscar Serrano, ...</td>\n",
       "      <td>Mexico</td>\n",
       "      <td>December 23, 2016</td>\n",
       "      <td>2016</td>\n",
       "      <td>TV-MA</td>\n",
       "      <td>93 min</td>\n",
       "      <td>Dramas, International Movies</td>\n",
       "      <td>After a devastating earthquake hits Mexico Cit...</td>\n",
       "    </tr>\n",
       "    <tr>\n",
       "      <th>2</th>\n",
       "      <td>s3</td>\n",
       "      <td>Movie</td>\n",
       "      <td>23:59</td>\n",
       "      <td>Gilbert Chan</td>\n",
       "      <td>Tedd Chan, Stella Chung, Henley Hii, Lawrence ...</td>\n",
       "      <td>Singapore</td>\n",
       "      <td>December 20, 2018</td>\n",
       "      <td>2011</td>\n",
       "      <td>R</td>\n",
       "      <td>78 min</td>\n",
       "      <td>Horror Movies, International Movies</td>\n",
       "      <td>When an army recruit is found dead, his fellow...</td>\n",
       "    </tr>\n",
       "  </tbody>\n",
       "</table>\n",
       "</div>"
      ],
      "text/plain": [
       "  show_id     type  title           director  \\\n",
       "0      s1  TV Show     3%                NaN   \n",
       "1      s2    Movie   7:19  Jorge Michel Grau   \n",
       "2      s3    Movie  23:59       Gilbert Chan   \n",
       "\n",
       "                                                cast    country  \\\n",
       "0  João Miguel, Bianca Comparato, Michel Gomes, R...     Brazil   \n",
       "1  Demián Bichir, Héctor Bonilla, Oscar Serrano, ...     Mexico   \n",
       "2  Tedd Chan, Stella Chung, Henley Hii, Lawrence ...  Singapore   \n",
       "\n",
       "          date_added  release_year rating   duration  \\\n",
       "0    August 14, 2020          2020  TV-MA  4 Seasons   \n",
       "1  December 23, 2016          2016  TV-MA     93 min   \n",
       "2  December 20, 2018          2011      R     78 min   \n",
       "\n",
       "                                           listed_in  \\\n",
       "0  International TV Shows, TV Dramas, TV Sci-Fi &...   \n",
       "1                       Dramas, International Movies   \n",
       "2                Horror Movies, International Movies   \n",
       "\n",
       "                                         description  \n",
       "0  In a future where the elite inhabit an island ...  \n",
       "1  After a devastating earthquake hits Mexico Cit...  \n",
       "2  When an army recruit is found dead, his fellow...  "
      ]
     },
     "execution_count": 6,
     "metadata": {},
     "output_type": "execute_result"
    }
   ],
   "source": [
    "import pandas as pd\n",
    "\n",
    "df = pd.read_csv('C:\\\\Users\\\\admin\\\\Desktop\\\\data\\\\netflix_titles.csv')\n",
    "df.head(3)\n",
    "\n"
   ]
  },
  {
   "cell_type": "markdown",
   "metadata": {},
   "source": [
    "<b><font color='#8B0000'>TASK</font></b>\n",
    "\n",
    "Present the number of rows and number of columns in the dataset in the following format:<br><br> \"Number of rows: {rows}, number of columns: {columns}\""
   ]
  },
  {
   "cell_type": "code",
   "execution_count": 7,
   "metadata": {
    "_kg_hide-input": true,
    "execution": {
     "iopub.execute_input": "2021-04-01T06:48:15.434238Z",
     "iopub.status.busy": "2021-04-01T06:48:15.433521Z",
     "iopub.status.idle": "2021-04-01T06:48:15.593435Z",
     "shell.execute_reply": "2021-04-01T06:48:15.592884Z"
    },
    "papermill": {
     "duration": 0.198024,
     "end_time": "2021-04-01T06:48:15.593585",
     "exception": false,
     "start_time": "2021-04-01T06:48:15.395561",
     "status": "completed"
    },
    "slideshow": {
     "slide_type": "slide"
    },
    "tags": []
   },
   "outputs": [
    {
     "data": {
      "text/plain": [
       "'Number of rows: 7787, number of columns: 12'"
      ]
     },
     "execution_count": 7,
     "metadata": {},
     "output_type": "execute_result"
    }
   ],
   "source": [
    "\n",
    "rows, columns = df.shape\n",
    "\n",
    "\n",
    "output = f\"Number of rows: {rows}, number of columns: {columns}\"\n",
    "output\n",
    "\n"
   ]
  },
  {
   "cell_type": "markdown",
   "metadata": {
    "slideshow": {
     "slide_type": "slide"
    }
   },
   "source": [
    "## Find missing data"
   ]
  },
  {
   "cell_type": "markdown",
   "metadata": {},
   "source": [
    "<b><font color='#8B0000'>TASK</font></b>\n",
    "\n",
    "On separate lines, print the null rate of every column that contains null values in the following format: <br><br> \n",
    "\n",
    "\"{column1} null rate: {null_rate1}\" <br>\n",
    "\"{column2} null rate: {null_rate2}\" <br>\n",
    "..."
   ]
  },
  {
   "cell_type": "code",
   "execution_count": 9,
   "metadata": {
    "_kg_hide-input": true,
    "execution": {
     "iopub.execute_input": "2021-04-01T06:48:15.681390Z",
     "iopub.status.busy": "2021-04-01T06:48:15.680740Z",
     "iopub.status.idle": "2021-04-01T06:48:15.684900Z",
     "shell.execute_reply": "2021-04-01T06:48:15.685841Z"
    },
    "papermill": {
     "duration": 0.05858,
     "end_time": "2021-04-01T06:48:15.686071",
     "exception": false,
     "start_time": "2021-04-01T06:48:15.627491",
     "status": "completed"
    },
    "slideshow": {
     "slide_type": "fragment"
    },
    "tags": []
   },
   "outputs": [
    {
     "name": "stdout",
     "output_type": "stream",
     "text": [
      "director null rate: 30.68%\n",
      "cast null rate: 9.22%\n",
      "country null rate: 6.51%\n",
      "date_added null rate: 0.13%\n",
      "rating null rate: 0.09%\n"
     ]
    }
   ],
   "source": [
    "import pandas as pd\n",
    "\n",
    "\n",
    "null_rates = df.isnull().mean() * 100\n",
    "\n",
    "null_rates = null_rates[null_rates > 0]\n",
    "\n",
    "\n",
    "for column, null_rate in null_rates.items():\n",
    "    print(f\"{column} null rate: {null_rate:.2f}%\")\n",
    "\n",
    "\n"
   ]
  },
  {
   "cell_type": "markdown",
   "metadata": {
    "papermill": {
     "duration": 0.034047,
     "end_time": "2021-04-01T06:48:15.823924",
     "exception": false,
     "start_time": "2021-04-01T06:48:15.789877",
     "status": "completed"
    },
    "slideshow": {
     "slide_type": "slide"
    },
    "tags": []
   },
   "source": [
    "## Dealing with the missing data"
   ]
  },
  {
   "cell_type": "markdown",
   "metadata": {},
   "source": [
    "<b><font color='#8B0000'>TASK</font></b>\n",
    "\n",
    "Replace blank countries with the mode (most frequently ocurring) country."
   ]
  },
  {
   "cell_type": "code",
   "execution_count": 10,
   "metadata": {},
   "outputs": [],
   "source": [
    "country_mode = df['country'].mode()[0]\n",
    "df['country'] = df['country'].fillna(country_mode)"
   ]
  },
  {
   "cell_type": "markdown",
   "metadata": {},
   "source": [
    "<b><font color='#8B0000'>TASK</font></b>\n",
    "\n",
    "Replace the missing values in the _director_ column with the string **'No Data'**."
   ]
  },
  {
   "cell_type": "code",
   "execution_count": 11,
   "metadata": {},
   "outputs": [],
   "source": [
    "df['director'] = df['director'].fillna('No Data')\n"
   ]
  },
  {
   "cell_type": "markdown",
   "metadata": {},
   "source": [
    "<b><font color='#8B0000'>TASK</font></b>\n",
    "\n",
    "Replace the missing values in the _cast_ column with the string **'No Data'**."
   ]
  },
  {
   "cell_type": "code",
   "execution_count": 12,
   "metadata": {},
   "outputs": [],
   "source": [
    "df['cast'] = df['cast'].fillna('No Data')\n"
   ]
  },
  {
   "cell_type": "markdown",
   "metadata": {},
   "source": [
    "<b><font color='#8B0000'>TASK</font></b>\n",
    "\n",
    "Drop all other columns with missing values."
   ]
  },
  {
   "cell_type": "code",
   "execution_count": 13,
   "metadata": {},
   "outputs": [],
   "source": [
    "df = df.dropna(axis=1)\n"
   ]
  },
  {
   "cell_type": "markdown",
   "metadata": {},
   "source": [
    "<b><font color='#8B0000'>TASK</font></b>\n",
    "\n",
    "Drop all the duplicates in the data."
   ]
  },
  {
   "cell_type": "code",
   "execution_count": 14,
   "metadata": {
    "execution": {
     "iopub.execute_input": "2021-04-01T06:48:15.917484Z",
     "iopub.status.busy": "2021-04-01T06:48:15.916686Z",
     "iopub.status.idle": "2021-04-01T06:48:15.971479Z",
     "shell.execute_reply": "2021-04-01T06:48:15.970878Z"
    },
    "papermill": {
     "duration": 0.113267,
     "end_time": "2021-04-01T06:48:15.971625",
     "exception": false,
     "start_time": "2021-04-01T06:48:15.858358",
     "status": "completed"
    },
    "slideshow": {
     "slide_type": "skip"
    },
    "tags": []
   },
   "outputs": [],
   "source": [
    "df = df.drop_duplicates()\n"
   ]
  },
  {
   "cell_type": "markdown",
   "metadata": {},
   "source": [
    "<b><font color='#8B0000'>TASK</font></b>\n",
    "\n",
    "Drop the rows where country is a null value."
   ]
  },
  {
   "cell_type": "code",
   "execution_count": 15,
   "metadata": {},
   "outputs": [
    {
     "name": "stdout",
     "output_type": "stream",
     "text": [
      "show_id         0\n",
      "type            0\n",
      "title           0\n",
      "director        0\n",
      "cast            0\n",
      "country         0\n",
      "release_year    0\n",
      "duration        0\n",
      "listed_in       0\n",
      "description     0\n",
      "dtype: int64\n",
      "Number of duplicates: 0\n"
     ]
    }
   ],
   "source": [
    "print(df.isnull().sum())\n",
    "print(\"Number of duplicates:\", df.duplicated().sum())\n"
   ]
  },
  {
   "cell_type": "markdown",
   "metadata": {},
   "source": [
    "<b><font color='#8B0000'>TASK</font></b>\n",
    "\n",
    "Create a new column in the dataframe called 'first_country'. It should contain only the first country from the 'country' column (up to the first comma)."
   ]
  },
  {
   "cell_type": "code",
   "execution_count": 16,
   "metadata": {},
   "outputs": [],
   "source": [
    "df['first_country'] = df['country'].apply(lambda x: x.split(',')[0])\n"
   ]
  },
  {
   "cell_type": "markdown",
   "metadata": {},
   "source": [
    "<b><font color='#8B0000'>TASK</font></b>\n",
    "\n",
    "Replace the name of the countries in the 'first_country' column as follows:\n",
    "\n",
    "- United States --> USA\n",
    "\n",
    "- United Kingdom --> UK\n",
    "\n",
    "- South Korea --> S. Korea\n"
   ]
  },
  {
   "cell_type": "code",
   "execution_count": 17,
   "metadata": {},
   "outputs": [],
   "source": [
    "df['first_country'] = df['first_country'].replace({\n",
    "    'United States': 'USA',\n",
    "    'United Kingdom': 'UK',\n",
    "    'South Korea': 'S. Korea'\n",
    "})\n",
    "\n"
   ]
  },
  {
   "cell_type": "markdown",
   "metadata": {
    "papermill": {
     "duration": 0.036705,
     "end_time": "2021-04-01T06:48:16.585232",
     "exception": false,
     "start_time": "2021-04-01T06:48:16.548527",
     "status": "completed"
    },
    "slideshow": {
     "slide_type": "slide"
    },
    "tags": []
   },
   "source": [
    "## Visualizations"
   ]
  },
  {
   "cell_type": "markdown",
   "metadata": {},
   "source": [
    "<b><font color='#8B0000'>TASK</font></b>\n",
    "\n",
    "Create a new dataframe, called **\"mt_ratio\"**. It should contain **1 row** and **2 columns**. \n",
    "\n",
    "The dataframe should contain the ratio of the different types of content to all available content on Netlix. \n",
    "\n",
    "For example, if 81% of the content on Netflix is represented by movies, you should have a column with the type Movie and 0.81 content ratio.\n",
    "\n",
    "**Tip**: There is a column in the dataframe which designates the type of the content."
   ]
  },
  {
   "cell_type": "code",
   "execution_count": 18,
   "metadata": {
    "execution": {
     "iopub.execute_input": "2021-04-01T06:48:17.587344Z",
     "iopub.status.busy": "2021-04-01T06:48:17.586618Z",
     "iopub.status.idle": "2021-04-01T06:48:17.598484Z",
     "shell.execute_reply": "2021-04-01T06:48:17.598982Z"
    },
    "papermill": {
     "duration": 0.066841,
     "end_time": "2021-04-01T06:48:17.599199",
     "exception": false,
     "start_time": "2021-04-01T06:48:17.532358",
     "status": "completed"
    },
    "slideshow": {
     "slide_type": "skip"
    },
    "tags": []
   },
   "outputs": [
    {
     "data": {
      "text/html": [
       "<div>\n",
       "<style scoped>\n",
       "    .dataframe tbody tr th:only-of-type {\n",
       "        vertical-align: middle;\n",
       "    }\n",
       "\n",
       "    .dataframe tbody tr th {\n",
       "        vertical-align: top;\n",
       "    }\n",
       "\n",
       "    .dataframe thead th {\n",
       "        text-align: right;\n",
       "    }\n",
       "</style>\n",
       "<table border=\"1\" class=\"dataframe\">\n",
       "  <thead>\n",
       "    <tr style=\"text-align: right;\">\n",
       "      <th></th>\n",
       "      <th>country</th>\n",
       "      <th>first_country</th>\n",
       "    </tr>\n",
       "  </thead>\n",
       "  <tbody>\n",
       "    <tr>\n",
       "      <th>0</th>\n",
       "      <td>Brazil</td>\n",
       "      <td>Brazil</td>\n",
       "    </tr>\n",
       "    <tr>\n",
       "      <th>1</th>\n",
       "      <td>Mexico</td>\n",
       "      <td>Mexico</td>\n",
       "    </tr>\n",
       "    <tr>\n",
       "      <th>2</th>\n",
       "      <td>Singapore</td>\n",
       "      <td>Singapore</td>\n",
       "    </tr>\n",
       "    <tr>\n",
       "      <th>3</th>\n",
       "      <td>United States</td>\n",
       "      <td>USA</td>\n",
       "    </tr>\n",
       "    <tr>\n",
       "      <th>4</th>\n",
       "      <td>United States</td>\n",
       "      <td>USA</td>\n",
       "    </tr>\n",
       "  </tbody>\n",
       "</table>\n",
       "</div>"
      ],
      "text/plain": [
       "         country first_country\n",
       "0         Brazil        Brazil\n",
       "1         Mexico        Mexico\n",
       "2      Singapore     Singapore\n",
       "3  United States           USA\n",
       "4  United States           USA"
      ]
     },
     "execution_count": 18,
     "metadata": {},
     "output_type": "execute_result"
    }
   ],
   "source": [
    "df[['country', 'first_country']].head()\n"
   ]
  },
  {
   "cell_type": "markdown",
   "metadata": {},
   "source": [
    "<b><font color='#8B0000'>TASK</font></b>\n",
    "\n",
    "Create a **horizontal bar plot** which presents the relative share of the different types of content on Netflix (Movies and TV Series).\n",
    "\n",
    "***REQUIREMENTS:***\n",
    "- figure DPI should be **140**\n",
    " - figure size should be **(6.5, 2.5)**\n",
    " - use `#b20710` color for Movies, and `#221f1f` for TV Series\n",
    " - figure title should be **'Relative share of types of content on Netflix'**\n",
    " - create a figure **legend** in the **upper right** corner of the figure\n",
    " - no axis"
   ]
  },
  {
   "cell_type": "code",
   "execution_count": 20,
   "metadata": {},
   "outputs": [],
   "source": [
    "type_counts = df['type'].value_counts(normalize=True)\n",
    "mt_ratio = pd.DataFrame(type_counts).transpose()"
   ]
  },
  {
   "cell_type": "code",
   "execution_count": 22,
   "metadata": {},
   "outputs": [],
   "source": [
    "mt_ratio.columns = ['Movie_ratio', 'TV_Show_ratio']"
   ]
  },
  {
   "cell_type": "code",
   "execution_count": 24,
   "metadata": {},
   "outputs": [
    {
     "data": {
      "text/plain": [
       "(0.0, 0.7250353152690381, -0.5, 0.5)"
      ]
     },
     "execution_count": 24,
     "metadata": {},
     "output_type": "execute_result"
    },
    {
     "data": {
      "image/png": "[encoded data removed]",
      "text/plain": [
       "<Figure size 910x350 with 1 Axes>"
      ]
     },
     "metadata": {},
     "output_type": "display_data"
    }
   ],
   "source": [
    "import matplotlib.pyplot as plt\n",
    "\n",
    "\n",
    "plt.figure(figsize=(6.5, 2.5), dpi=140)\n",
    "mt_ratio.plot(kind='barh', color=['#b20710', '#221f1f'], legend=True, ax=plt.gca())\n",
    "plt.title('Relative share of types of content on Netflix')\n",
    "plt.legend(loc='upper right')\n",
    "plt.axis('off')\n"
   ]
  },
  {
   "cell_type": "code",
   "execution_count": null,
   "metadata": {},
   "outputs": [],
   "source": [
    "#HELPER CELL - RUN IT!\n",
    "netflix_data['count'] = 1\n",
    "print('Helper cell was run. Continue!')"
   ]
  },
  {
   "cell_type": "code",
   "execution_count": 26,
   "metadata": {},
   "outputs": [],
   "source": [
    "plt.show()"
   ]
  },
  {
   "cell_type": "markdown",
   "metadata": {},
   "source": [
    "<b><font color='#8B0000'>TASK</font></b>\n",
    "\n",
    "Create a variable called **'top_10_countries'** which stores the top 10 countries by count of content they add."
   ]
  },
  {
   "cell_type": "code",
   "execution_count": 27,
   "metadata": {},
   "outputs": [],
   "source": [
    "top_10_countries = df['country'].value_counts().head(10)\n"
   ]
  },
  {
   "cell_type": "markdown",
   "metadata": {},
   "source": [
    "<b><font color='#8B0000'>TASK</font></b>\n",
    "\n",
    "Create a **vertical bar plot** which presents the top 10 countries by content.\n",
    "\n",
    "***REQUIREMENTS:***\n",
    "\n",
    "\n",
    "- figure size should be **(12, 5)**\n",
    "- bar width must be **0.5**\n",
    "- linewidth should be **0.6**,\n",
    "- top 3 bars must be **colored** with `#b20710`,\n",
    "- the other bars must be colored with `#f5f5f1`,\n",
    "- y axis should be named **'Number of contributions'**\n",
    "- figure title should be **'Top 10 contributors of content'**"
   ]
  },
  {
   "cell_type": "code",
   "execution_count": 29,
   "metadata": {},
   "outputs": [
    {
     "data": {
      "image/png": "[encoded data removed]",
      "text/plain": [
       "<Figure size 1200x500 with 1 Axes>"
      ]
     },
     "metadata": {},
     "output_type": "display_data"
    }
   ],
   "source": [
    "\n",
    "plt.figure(figsize=(12, 5))\n",
    "\n",
    "colors = ['#b20710' if i < 3 else '#f5f5f1' for i in range(10)]\n",
    "bars = plt.bar(top_10_countries.index, top_10_countries.values, color=colors, edgecolor='black', linewidth=0.6, width=0.5)"
   ]
  },
  {
   "cell_type": "code",
   "execution_count": 2,
   "metadata": {
    "scrolled": true
   },
   "outputs": [
    {
     "name": "stdout",
     "output_type": "stream",
     "text": [
      "Helper cell was run. Continue!\n"
     ]
    }
   ],
   "source": [
    "import pandas as pd\n",
    "\n",
    "\n",
    "netflix_data = pd.read_csv('C:\\\\Users\\\\admin\\\\Desktop\\\\data\\\\netflix_titles.csv')\n",
    "\n",
    "\n",
    "netflix_data[\"date_added\"] = pd.to_datetime(netflix_data['date_added'], format=\"mixed\")\n",
    "netflix_data['year_added'] = netflix_data['date_added'].dt.year\n",
    "print('Helper cell was run. Continue!')\n"
   ]
  },
  {
   "cell_type": "markdown",
   "metadata": {},
   "source": [
    "<b><font color='#8B0000'>TASK</font></b>\n",
    "\n",
    "The helper cell above create new columns which you can use to create a line plot.\n",
    "\n",
    "Create a **line plot** which presents the content added on Netflix throughout the years.\n",
    "\n",
    "***REQUIREMENTS:***\n",
    "\n",
    "\n",
    "- figure size should be **(12, 5)**\n",
    "- Movie line should be **colored** with `#b20710`,\n",
    "- TV Show line must be **colored** with `#221f1f\"`,\n",
    "- y axis should be named **'Number of contributions'**\n",
    "- figure title should be **'Contributions throughout the years'**\n",
    "- area below every line should be **filled** with the respective color"
   ]
  },
  {
   "cell_type": "markdown",
   "metadata": {},
   "source": [
    "\n",
    "\n",
    "df = pd.read_csv('C:\\\\Users\\\\admin\\\\Desktop\\\\data\\\\netflix_titles.csv')\n",
    "\n",
    "df['date_added'] = pd.to_datetime(df['date_added'], format=\"%B %d, %Y\", errors='coerce')\n",
    "df['year_added'] = df['date_added'].dt.year\n",
    "\n",
    "df = df.dropna(subset=['year_added'])\n",
    "\n",
    "\n",
    "df['year_added'] = df['year_added'].astype(int)\n",
    "\n",
    "\n",
    "yearly_content = df.groupby(['year_added', 'type']).size().unstack(fill_value=0)\n",
    "\n",
    "plt.figure(figsize=(12, 5))\n",
    "\n",
    "plt.plot(yearly_content.index, yearly_content['Movie'], label='Movies', color='#b20710', linewidth=2)\n",
    "plt.fill_between(yearly_content.index, yearly_content['Movie'], color='#b20710', alpha=0.5)\n",
    "\n",
    "plt.plot(yearly_content.index, yearly_content['TV Show'], label='TV Shows', color='#221f1f', linewidth=2)\n",
    "plt.fill_between(yearly_content.index, yearly_content['TV Show'], color='#221f1f', alpha=0.5)\n",
    "\n",
    "\n",
    "plt.ylabel('Number of contributions')\n",
    "plt.title('Contributions throughout the years')\n",
    "plt.legend()\n",
    "\n",
    "\n",
    "plt.show()\n",
    "\n",
    "\n",
    "\n",
    "\n",
    "\n"
   ]
  },
  {
   "cell_type": "code",
   "execution_count": 1,
   "metadata": {},
   "outputs": [
    {
     "data": {
      "text/plain": [
       "<matplotlib.legend.Legend at 0x2046a41be90>"
      ]
     },
     "execution_count": 1,
     "metadata": {},
     "output_type": "execute_result"
    },
    {
     "data": {
      "image/png": "[encoded data removed]",
      "text/plain": [
       "<Figure size 1200x500 with 1 Axes>"
      ]
     },
     "metadata": {},
     "output_type": "display_data"
    }
   ],
   "source": [
    "import pandas as pd\n",
    "import matplotlib.pyplot as plt\n",
    "\n",
    "df = pd.read_csv('C:\\\\Users\\\\admin\\\\Desktop\\\\data\\\\netflix_titles.csv')\n",
    "\n",
    "\n",
    "df['date_added'] = pd.to_datetime(df['date_added'], format=\"%B %d, %Y\", errors='coerce')\n",
    "df['year_added'] = df['date_added'].dt.year\n",
    "\n",
    "\n",
    "df = df.dropna(subset=['year_added'])\n",
    "\n",
    "\n",
    "df['year_added'] = df['year_added'].astype(int)\n",
    "\n",
    "yearly_content = df.groupby(['year_added', 'type']).size().unstack(fill_value=0)\n",
    "\n",
    "\n",
    "plt.figure(figsize=(12, 5))\n",
    "\n",
    "\n",
    "plt.plot(yearly_content.index, yearly_content['Movie'], label='Movies', color='#b20710', linewidth=2)\n",
    "plt.fill_between(yearly_content.index, yearly_content['Movie'], color='#b20710', alpha=0.5)\n",
    "\n",
    "plt.plot(yearly_content.index, yearly_content['TV Show'], label='TV Shows', color='#221f1f', linewidth=2)\n",
    "plt.fill_between(yearly_content.index, yearly_content['TV Show'], color='#221f1f', alpha=0.5)\n",
    "\n",
    "\n",
    "plt.ylabel('Number of contributions')\n",
    "plt.title('Contributions throughout the years')\n",
    "plt.legend()"
   ]
  },
  {
   "cell_type": "markdown",
   "metadata": {},
   "source": [
    "# PART TWO - WORKING WITH TEXT"
   ]
  },
  {
   "cell_type": "markdown",
   "metadata": {},
   "source": [
    "Underneath you will find raw text which you should format according to the given final version of the text. Please, input your final, formatted text, in the last cell of the notebook denoted with the comment _#YOUR FINAL TEXT HERE_."
   ]
  },
  {
   "cell_type": "markdown",
   "metadata": {},
   "source": [
    "### Raw text"
   ]
  },
  {
   "cell_type": "markdown",
   "metadata": {},
   "source": [
    "Netflix is an American subscription video on-demand streaming service owned and operated by Netflix, Inc. The service primarily distributes films and television series. It is available internationally in multiple languages. Netflix was launched on January 16, 2007, nearly a decade after Netflix, Inc. began its DVD-by-mail service. With 238.39 million paid memberships in more than 190 countries, it is the most-subscribed video on demand streaming service. By 2022, original productions accounted for half of Netflix's library in the United States, and the company had ventured into other categories, such as video game publishing via the Netflix service. More on Netflix game here (insert the following hyperlink https://help.netflix.com/en/node/121442)."
   ]
  },
  {
   "cell_type": "markdown",
   "metadata": {},
   "source": [
    "### Final text - example"
   ]
  },
  {
   "attachments": {
    "%D0%95%D0%BA%D1%80%D0%B0%D0%BD%D0%BD%D0%B0%20%D1%81%D0%BD%D0%B8%D0%BC%D0%BA%D0%B0%202023-12-28%20101530.png": {
     "image/png": "[encoded data removed]"
    }
   },
   "cell_type": "markdown",
   "metadata": {},
   "source": [
    "![%D0%95%D0%BA%D1%80%D0%B0%D0%BD%D0%BD%D0%B0%20%D1%81%D0%BD%D0%B8%D0%BC%D0%BA%D0%B0%202023-12-28%20101530.png](attachment:%D0%95%D0%BA%D1%80%D0%B0%D0%BD%D0%BD%D0%B0%20%D1%81%D0%BD%D0%B8%D0%BC%D0%BA%D0%B0%202023-12-28%20101530.png)"
   ]
  },
  {
   "cell_type": "markdown",
   "metadata": {},
   "source": [
    "Netflix is an American subscription video on-demand streaming service owned and operated by *Netflix*, Inc. The service primarily distributes **films** and **television series**. It is available internationally in multiple languages. Netflix was launched on January 16, 2007, nearly a decade after Netflix, Inc. began its DVD-by-mail service. With 238.39 million paid memberships in <u>more than 190 countries</u>, it is the most-subscribed video on demand streaming service. By 2022, original productions accounted for half of Netflix's library in the United States, and the company had ventured into other categories, such as video game publishing via the Netflix service More on Netflix game [here](https://help.netflix.com/en/node/121442)"
   ]
  },
  {
   "cell_type": "code",
   "execution_count": null,
   "metadata": {},
   "outputs": [],
   "source": []
  }
 ],
 "metadata": {
  "kernelspec": {
   "display_name": "Python 3 (ipykernel)",
   "language": "python",
   "name": "python3"
  },
  "language_info": {
   "codemirror_mode": {
    "name": "ipython",
    "version": 3
   },
   "file_extension": ".py",
   "mimetype": "text/x-python",
   "name": "python",
   "nbconvert_exporter": "python",
   "pygments_lexer": "ipython3",
   "version": "3.11.5"
  },
  "papermill": {
   "default_parameters": {},
   "duration": 25.567508,
   "end_time": "2021-04-01T06:48:33.056801",
   "environment_variables": {},
   "exception": null,
   "input_path": "__notebook__.ipynb",
   "output_path": "__notebook__.ipynb",
   "parameters": {},
   "start_time": "2021-04-01T06:48:07.489293",
   "version": "2.2.2"
  }
 },
 "nbformat": 4,
 "nbformat_minor": 4
}
